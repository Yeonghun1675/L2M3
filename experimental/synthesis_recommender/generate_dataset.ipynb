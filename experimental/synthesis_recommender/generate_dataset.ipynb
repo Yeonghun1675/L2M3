{
 "cells": [
  {
   "cell_type": "markdown",
   "metadata": {},
   "source": [
    "# Collect synthesis condition"
   ]
  },
  {
   "cell_type": "code",
   "execution_count": 8,
   "metadata": {},
   "outputs": [],
   "source": [
    "from llm_miner import JournalReader\n",
    "from pathlib import Path\n",
    "from tqdm import tqdm\n",
    "import pandas as pd\n",
    "from collections import Counter"
   ]
  },
  {
   "cell_type": "code",
   "execution_count": 9,
   "metadata": {},
   "outputs": [],
   "source": [
    "JR_path = '../11_final_output_re_re'\n",
    "files = list(Path(JR_path).glob('*/*.json'))"
   ]
  },
  {
   "cell_type": "code",
   "execution_count": 10,
   "metadata": {},
   "outputs": [],
   "source": [
    "def get_syn_condition(file, total_data):\n",
    "    try:\n",
    "        jr = JournalReader.from_json(file)\n",
    "    except Exception:\n",
    "        return\n",
    "    \n",
    "    try:\n",
    "        year = int(jr.metadata.date.split('.')[0])\n",
    "    except:\n",
    "        year = None\n",
    "\n",
    "    for result in jr.result:\n",
    "        if 'processes' not in result:\n",
    "            continue\n",
    "\n",
    "        data = {'year': year}\n",
    "        process = result['processes']\n",
    "        data['processes'] = process\n",
    "        \n",
    "        data['meta'] = result.material.to_dict()\n",
    "        data['doi'] = jr.doi\n",
    "\n",
    "        if not process:\n",
    "            continue\n",
    "\n",
    "        synthesis = False\n",
    "        precursors = []\n",
    "        solvents = []\n",
    "        for operation in process:\n",
    "            if operation['synthesis method'] in ['chemical synthesis', 'solvothermal synthesis', 'sonochemical synthesis', 'hydrothermal synthesis']:\n",
    "                if 'precursor' not in operation:\n",
    "                    continue\n",
    "\n",
    "                for pre in operation['precursor']:\n",
    "                    precursors.append(pre['name'])\n",
    "                \n",
    "                synthesis = True\n",
    "            else:\n",
    "                continue\n",
    "        \n",
    "        if synthesis:\n",
    "            data['precursor'] = precursors\n",
    "            total_data.append(data)\n",
    "        else:\n",
    "            continue\n",
    "\n",
    "\n",
    "    return total_data"
   ]
  },
  {
   "cell_type": "code",
   "execution_count": 16,
   "metadata": {},
   "outputs": [],
   "source": [
    "total_data = []\n",
    "for file in files:\n",
    "    get_syn_condition(file, total_data=total_data)"
   ]
  },
  {
   "cell_type": "code",
   "execution_count": 18,
   "metadata": {},
   "outputs": [],
   "source": [
    "has_refcode_data = [\n",
    "    i for i in total_data if isinstance(i['meta']['refcode'], str)\n",
    "]"
   ]
  },
  {
   "cell_type": "markdown",
   "metadata": {},
   "source": [
    "# Precursor list"
   ]
  },
  {
   "cell_type": "code",
   "execution_count": 66,
   "metadata": {},
   "outputs": [],
   "source": [
    "counter = Counter()\n",
    "for data in has_refcode_data:\n",
    "    precursor = data['precursor']\n",
    "    counter.update(precursor)"
   ]
  },
  {
   "cell_type": "code",
   "execution_count": 73,
   "metadata": {},
   "outputs": [],
   "source": [
    "df = pd.DataFrame(counter.most_common())\n",
    "df.to_csv('precursor.csv', encoding='utf-8-sig')"
   ]
  },
  {
   "cell_type": "markdown",
   "metadata": {},
   "source": [
    "# Load precursor_list"
   ]
  },
  {
   "cell_type": "code",
   "execution_count": 19,
   "metadata": {},
   "outputs": [],
   "source": [
    "from matplotlib import pyplot as plt\n",
    "import numpy as np"
   ]
  },
  {
   "cell_type": "code",
   "execution_count": 20,
   "metadata": {},
   "outputs": [],
   "source": [
    "df = pd.read_excel('assets/precursor.xlsx')"
   ]
  },
  {
   "cell_type": "code",
   "execution_count": 21,
   "metadata": {},
   "outputs": [],
   "source": [
    "df_solvent = pd.read_excel('assets/solvent.xlsx').replace({np.nan: None})"
   ]
  },
  {
   "cell_type": "code",
   "execution_count": 22,
   "metadata": {},
   "outputs": [],
   "source": [
    "name_dict = {i['Name']: i['Check (M/N/X/O)'] for i in df.iloc()}\n",
    "solvent_dict = {i[\"name\"]: i[\"standard_name\"] for i in df_solvent.iloc()}"
   ]
  },
  {
   "cell_type": "code",
   "execution_count": 23,
   "metadata": {},
   "outputs": [],
   "source": [
    "operations = ['ball milling', 'centrifugation', 'chemical mechanical polishing', 'chemical synthesis', 'chemical vapor deposition', 'drying', 'electrochemical deposition', 'heat treatment', 'microwave-assisted synthesis', 'mixing', 'rinsing', 'solvothermal synthesis', 'sol-gel synthesis', 'sonication', 'sonochemical synthesis', 'thermal evaporation', 'wet etching', 'washing', 'cooling', 'pH adjustment', 'filtration']"
   ]
  },
  {
   "cell_type": "code",
   "execution_count": 24,
   "metadata": {},
   "outputs": [
    {
     "name": "stdout",
     "output_type": "stream",
     "text": [
      "9197\n"
     ]
    }
   ],
   "source": [
    "sorted_output = []\n",
    "for data in has_refcode_data:\n",
    "    is_target = True\n",
    "    for pre in data['precursor']:\n",
    "        tag = name_dict.get(pre, 'X')\n",
    "        if tag not in ['M', 'N']:\n",
    "            is_target = False\n",
    "\n",
    "    for process in data['processes']:\n",
    "        name = process['synthesis method']\n",
    "        if name not in operations:\n",
    "            is_target = False\n",
    "\n",
    "    \n",
    "    if is_target:\n",
    "        sorted_output.append(data)\n",
    "\n",
    "print (len(sorted_output))"
   ]
  },
  {
   "cell_type": "code",
   "execution_count": 25,
   "metadata": {},
   "outputs": [
    {
     "data": {
      "text/plain": [
       "{'year': 2019,\n",
       " 'processes': [{'synthesis method': 'solvothermal synthesis',\n",
       "   'precursor': [{'name': 'Zn(NO3)2⋅6H2O', 'amount': '45', 'unit': 'mg'},\n",
       "    {'name': 'H4abtc', 'amount': '0.0358', 'unit': 'g'}],\n",
       "   'solvent': [{'name': 'DMA', 'amount': '5.0', 'unit': 'mL'}],\n",
       "   'reducing agent': [{'name': '', 'amount': '', 'unit': ''}],\n",
       "   'surfactant': [{'name': '', 'amount': '', 'unit': ''}],\n",
       "   'pressure': '',\n",
       "   'temperature': '120°C',\n",
       "   'time': '72h',\n",
       "   'heating rate': '',\n",
       "   'cooling rate': '48h'},\n",
       "  {'synthesis method': 'filtration',\n",
       "   'time': '',\n",
       "   'atmosphere': '',\n",
       "   'pressure': ''},\n",
       "  {'synthesis method': 'washing', 'washing solution': 'DMA', 'amount': ''},\n",
       "  {'synthesis method': 'drying',\n",
       "   'pressure': '',\n",
       "   'temperature': '',\n",
       "   'atmosphere': '',\n",
       "   'time': ''}],\n",
       " 'meta': {'name': '{[Zn2(abtc)(H2O)3](DMA)}n',\n",
       "  'symbol': '1',\n",
       "  'chemical_formula': 'C16 H6 N2 O11 Zn2',\n",
       "  'formula_source': 'csd',\n",
       "  'synonyms': [],\n",
       "  'refcode': 'JOPKAD',\n",
       "  'is_general': True},\n",
       " 'doi': '10.1007/s10876-019-01615-7',\n",
       " 'precursor': ['Zn(NO3)2⋅6H2O', 'H4abtc']}"
      ]
     },
     "execution_count": 25,
     "metadata": {},
     "output_type": "execute_result"
    }
   ],
   "source": [
    "sorted_output[0]"
   ]
  },
  {
   "cell_type": "code",
   "execution_count": 26,
   "metadata": {},
   "outputs": [],
   "source": [
    "year_counter = Counter()\n",
    "for data in sorted_output:\n",
    "    if isinstance(data['year'], int):\n",
    "        year_counter.update([data['year']])"
   ]
  },
  {
   "cell_type": "code",
   "execution_count": 27,
   "metadata": {},
   "outputs": [],
   "source": [
    "years, counts = zip(*year_counter.most_common())"
   ]
  },
  {
   "cell_type": "code",
   "execution_count": 29,
   "metadata": {},
   "outputs": [
    {
     "data": {
      "text/plain": [
       "Text(0.5, 0, 'Year')"
      ]
     },
     "execution_count": 29,
     "metadata": {},
     "output_type": "execute_result"
    },
    {
     "data": {
      "image/png": "[encoded data removed]",
      "text/plain": [
       "<Figure size 640x480 with 1 Axes>"
      ]
     },
     "metadata": {},
     "output_type": "display_data"
    }
   ],
   "source": [
    "plt.rcParams['font.family'] = 'arial'\n",
    "plt.bar(years, counts, width=1, linewidth=1, edgecolor='k')\n",
    "plt.ylabel('Number of structures', fontsize=13)\n",
    "plt.xlabel('Year', fontsize=13)\n"
   ]
  },
  {
   "cell_type": "markdown",
   "metadata": {},
   "source": [
    "# Parse data"
   ]
  },
  {
   "cell_type": "code",
   "execution_count": 30,
   "metadata": {},
   "outputs": [],
   "source": [
    "from collections import namedtuple\n",
    "import pprint\n",
    "from word2number import w2n\n",
    "import regex"
   ]
  },
  {
   "cell_type": "code",
   "execution_count": 31,
   "metadata": {},
   "outputs": [],
   "source": [
    "field = ('precursors', 'synthesis_method', 'solvent', 'temperature', 'time', 'pressure', 'cooling', 'pH_adjustment', 'washing', 'filtration', 'drying')\n",
    "class Recipt(object):\n",
    "    precursors = None\n",
    "    # ratio = None\n",
    "    synthesis_method = None\n",
    "    solvent = None\n",
    "    temperature = None\n",
    "    time = None\n",
    "    pressure = None\n",
    "    cooling = False\n",
    "    pH_adjustment = False\n",
    "    washing = False\n",
    "    filtration = False\n",
    "    drying = False\n",
    "\n",
    "    def to_dict(self):\n",
    "        return {key: getattr(self, key) for key in field}\n"
   ]
  },
  {
   "cell_type": "code",
   "execution_count": 32,
   "metadata": {},
   "outputs": [],
   "source": [
    "a = iter(range(5000))"
   ]
  },
  {
   "cell_type": "code",
   "execution_count": 33,
   "metadata": {},
   "outputs": [],
   "source": [
    "time_exception = {\n",
    "    'half an hour': '30 min',\n",
    "    '0.5 h': '30 min',\n",
    "    '0.5-h': '30 min',\n",
    "    '120-h': '120 hours',\n",
    "    '1 hour 45 minutes': '105 min',\n",
    "}\n",
    "\n",
    "temperature_exception = {\n",
    "    '36 °C for 2 days, and then at 75 °C for another 3 days': '75 °C',\n",
    "    'mild heating': '50 °C',\n",
    "    'boiling': '100 °C',\n",
    "    'refrigerator temperature': '0 °C',\n",
    "    'hot': '100 °C',\n",
    "    '100 C': '100 °C',\n",
    "    'moderately heated': '50 °C'\n",
    "}\n",
    "\n",
    "pressure_exception = {\n",
    "    'ca. 1.1 MPa': '10 atm',\n",
    "    '~10-3 Torr': '0 atm',\n",
    "    'reduced': '0 atm',\n",
    "    '2.2 atm': '2.2 atm',\n",
    "    '3 bar': '3 atm',\n",
    "    '30psi': '2 atm'\n",
    "\n",
    "}"
   ]
  },
  {
   "cell_type": "code",
   "execution_count": 34,
   "metadata": {},
   "outputs": [],
   "source": [
    "def parse_number(number):\n",
    "    number = regex.sub(r\"(^|\\s)(ca\\.|~|about|±\\s?(\\d|\\.)+)(\\s|\\d|$)\", \"\", number).strip()\n",
    "\n",
    "    try:\n",
    "        number = int(number)\n",
    "    except Exception:\n",
    "        pass\n",
    "    else:\n",
    "        return number\n",
    "    \n",
    "    try:\n",
    "        number = float(number)\n",
    "    except Exception:\n",
    "        pass\n",
    "    else:\n",
    "        return number\n",
    "    \n",
    "    try:\n",
    "        number = w2n.word_to_num(number)\n",
    "    except Exception:\n",
    "        pass\n",
    "    else:\n",
    "        return number\n",
    "    \n",
    "    if number in ['half-an-', 'half']:\n",
    "        return 0.5\n",
    "    \n",
    "    try:\n",
    "        if \"-\" in number:\n",
    "            split = '-'\n",
    "        elif 'to' in number:\n",
    "            split = 'to'\n",
    "        elif 'or' in number:\n",
    "            split = 'or'\n",
    "        \n",
    "        a, b = number.split(split)\n",
    "        number = (int(a) + int(b)) / 2\n",
    "    except Exception:\n",
    "        pass\n",
    "    else:\n",
    "        return number\n",
    "\n",
    "\n",
    "    # print (number)\n",
    "    raise ValueError()"
   ]
  },
  {
   "cell_type": "code",
   "execution_count": 35,
   "metadata": {},
   "outputs": [],
   "source": [
    "def parse_temperature(temperature: str, syn_method: str):\n",
    "    temperature = regex.sub(r\"(approx\\.|approximately|~)\", \"\", temperature).strip()\n",
    "    temperature = temperature_exception.get(temperature, temperature)\n",
    "\n",
    "    if \"°C\" in temperature:\n",
    "        temperature = temperature.replace(\"°C\", \"\").strip()\n",
    "        temperature = parse_number(temperature)\n",
    "        temperature = f\"{temperature} °C\"\n",
    "    elif '℃' in temperature:\n",
    "        temperature = temperature.replace(\"°C\", \"\").strip()\n",
    "        temperature = parse_number(temperature)\n",
    "        temperature = f\"{temperature} °C\"\n",
    "    elif \"°F\" in temperature:\n",
    "        raise ValueError()\n",
    "    elif \"°\" in temperature:\n",
    "        temperature = temperature.replace(\"°\", \"\").strip()\n",
    "        temperature = parse_number(temperature)\n",
    "        temperature = f\"{temperature} °C\"\n",
    "    elif \"K\" in temperature:\n",
    "        temperature = parse_number(temperature.replace(\"K\", \"\").strip())\n",
    "        temperature = f\"{temperature - 273} °C\"\n",
    "    elif temperature in ['room temperature', 'air atmosphere', 'ambient temperature', 'reflux', 'refluxed', 'ambient', 'ambient conditions']:\n",
    "        temperature = '25 °C'\n",
    "    elif not temperature:\n",
    "        if syn_method in ['solvothermal synthesis', 'hydrothermal synthesis']:\n",
    "            temperature = None\n",
    "        else:\n",
    "            temperature = '25 °C'\n",
    "    else:\n",
    "        print ('temperature:', temperature)\n",
    "        temperature = None\n",
    "\n",
    "    return temperature\n",
    "\n",
    "def parse_pressure(pressure: str, syn_method: str):\n",
    "    pressure = pressure.strip()\n",
    "\n",
    "    if pressure in ['autogenous', 'autogeous',  'auto-generated', 'autogenerated', 'self-generated', 'autogenious', 'autogenously atmospheric pressure', 'autogeneous', 'sealed', 'autogenously applied', 'autogenously', 'autogenous pressure', 'auto-genous']:\n",
    "        pressure = 'autogenous'\n",
    "    elif pressure in ['room pressure', 'air', 'air atmosphere', 'ambient']:\n",
    "        pressure = '1 atm'\n",
    "    elif pressure in ['almost vacuum', 'vacuume', 'near-vacuum', 'vacuum', ]:\n",
    "        pressure = '0 atm'\n",
    "    elif not pressure:\n",
    "        if syn_method in ['solvothermal synthesis', 'hydrothermal synthesis']:\n",
    "            pressure = 'autogenous'\n",
    "        else:\n",
    "            pressure = '1 atm'\n",
    "    elif pressure in pressure_exception:\n",
    "        pressure = pressure_exception['pressure']\n",
    "    else:\n",
    "        print ('pressure: ', pressure)\n",
    "        pressure = None\n",
    "\n",
    "    return pressure\n",
    "\n",
    "def parse_time(time: str):\n",
    "    time = time_exception.get(time, time)\n",
    "    \n",
    "    unit = regex.search(r\"(?<=\\b|\\d)(days|day|weeks|week|hours|hour|h|minute|min|s)\\b\", time)\n",
    "    if not unit:\n",
    "        return None\n",
    "    unit = unit.group()\n",
    "    time = time.replace(unit, \"\").strip()\n",
    "    if time == 'several':\n",
    "        time = '4'\n",
    "    elif time == 'a few':\n",
    "        time = '2'\n",
    "    elif time == 'a couple of':\n",
    "        time = '2'\n",
    "    elif time == 'an':\n",
    "        time = '1'\n",
    "\n",
    "    time = parse_number(time)\n",
    "    time = f'{time} {unit}'\n",
    "\n",
    "    return time\n",
    "\n",
    "def parse_cooling(cooling, syn_method):\n",
    "    if cooling:\n",
    "        return True\n",
    "    elif syn_method in ['solvothermal synthesis', 'hydrothermal synthesis']:\n",
    "        return True\n",
    "    else:\n",
    "        return False\n",
    "\n",
    "def parse_solvent(operation):\n",
    "    if 'solution' in operation:\n",
    "        solvents = operation['solution']\n",
    "    elif 'solvent' in operation:\n",
    "        solvents = operation['solvent']\n",
    "    else:\n",
    "        return None\n",
    "\n",
    "    sol_ls = []\n",
    "    for sol in solvents:\n",
    "        sol = regex.split(r\"\\band\\b|\\,|\\/\", sol['name'])\n",
    "        for i in sol:\n",
    "            i = i.strip()\n",
    "            i = solvent_dict.get(i, None)\n",
    "            if not i:\n",
    "                continue\n",
    "            elif ',' in i:\n",
    "                sol_ls.extend(i.split(','))\n",
    "            else:\n",
    "                sol_ls.append(i)\n",
    "\n",
    "    sol_ls = list(set(sol_ls))\n",
    "\n",
    "\n",
    "    return sol_ls\n",
    "\n",
    "def parse_washing(washing_solution):\n",
    "    if not washing_solution:\n",
    "        return False\n",
    "    sol = regex.split(r\"\\band\\b|\\,|\\/\", washing_solution)\n",
    "    sol_ls = []\n",
    "    for i in sol:\n",
    "        i = i.strip()\n",
    "        i = solvent_dict.get(i, None)\n",
    "        if not i:\n",
    "            continue\n",
    "        elif ',' in i:\n",
    "            sol_ls.extend(i.split(','))\n",
    "        else:\n",
    "            sol_ls.append(i)\n",
    "    sol_ls = list(set(sol_ls))\n",
    "    return sol_ls\n",
    "\n",
    "\n",
    "def parse_dataset(process):\n",
    "    data = Recipt()\n",
    "\n",
    "    for operation in process:\n",
    "        syn_method = operation['synthesis method']\n",
    "        if syn_method in ['chemical synthesis', 'solvothermal synthesis', 'sonochemical synthesis', 'hydrothermal synthesis']:\n",
    "            data.precursors = [i['name'] for i in operation['precursor']]\n",
    "\n",
    "            data.solvent = parse_solvent(operation)\n",
    "            data.synthesis_method = syn_method\n",
    "            data.temperature = parse_temperature(operation['temperature'], syn_method)\n",
    "            data.pressure = parse_pressure(operation['pressure'], syn_method)\n",
    "            data.time = parse_time(operation['time'])\n",
    "            data.cooling = parse_cooling(operation.get('cooling rate'), syn_method)\n",
    "\n",
    "            pass\n",
    "        elif syn_method == 'filtration':\n",
    "            data.filtration = True\n",
    "        elif syn_method == 'washing':\n",
    "            data.washing = parse_washing(operation['washing solution'])\n",
    "        elif syn_method == 'pH adjustment':\n",
    "            data.pH_adjustment = operation['pH']\n",
    "        elif syn_method == 'drying':\n",
    "            data.drying = True\n",
    "    \n",
    "    return data\n"
   ]
  },
  {
   "cell_type": "code",
   "execution_count": 37,
   "metadata": {},
   "outputs": [
    {
     "name": "stdout",
     "output_type": "stream",
     "text": [
      "[{'synthesis method': 'solvothermal synthesis',\n",
      "  'precursor': [{'name': 'H2MDP', 'amount': '0.020', 'unit': 'g'},\n",
      "                {'name': 'ZnNO3⋅6H2O', 'amount': '0.297', 'unit': 'g'}],\n",
      "  'solvent': [{'name': 'distilled water', 'amount': '10', 'unit': 'mL'}],\n",
      "  'pressure': '',\n",
      "  'temperature': '180°C',\n",
      "  'time': '18 h',\n",
      "  'heating rate': '',\n",
      "  'cooling rate': 'slowly to 25°C'}]\n",
      "------------------------------\n",
      "{'precursors': ['H2MDP', 'ZnNO3⋅6H2O'],\n",
      " 'synthesis_method': 'solvothermal synthesis',\n",
      " 'solvent': ['water'],\n",
      " 'temperature': '180 °C',\n",
      " 'time': '18 h',\n",
      " 'pressure': 'autogenous',\n",
      " 'cooling': True,\n",
      " 'pH_adjustment': False,\n",
      " 'washing': False,\n",
      " 'filtration': False,\n",
      " 'drying': False}\n"
     ]
    }
   ],
   "source": [
    "# Test\n",
    "i = 8416\n",
    "process = sorted_output[i]['processes']\n",
    "pprint.pprint(process, sort_dicts=False)\n",
    "print ('------------------------------')\n",
    "pprint.pprint(parse_dataset(process).to_dict(), sort_dicts=False)"
   ]
  },
  {
   "cell_type": "markdown",
   "metadata": {},
   "source": [
    "# Make Prompt"
   ]
  },
  {
   "cell_type": "code",
   "execution_count": 47,
   "metadata": {},
   "outputs": [],
   "source": [
    "import json\n",
    "from sklearn.model_selection import train_test_split"
   ]
  },
  {
   "cell_type": "code",
   "execution_count": 48,
   "metadata": {},
   "outputs": [
    {
     "name": "stdout",
     "output_type": "stream",
     "text": [
      "('You act like a MOF synthesis expert. I will give you precursors of MOF and '\n",
      " 'you have to suggest the appropriate synthesis conditions for this MOF. You '\n",
      " 'have to suggest the synthesis conditions in JSON format and contain these '\n",
      " \"categories : ['precursor', 'synthesis_method', 'solvent', 'temperature', \"\n",
      " \"'time', 'pressure', 'cooling', 'pH_adjustment', 'washing', 'filtration', \"\n",
      " \"'drying'].\")\n"
     ]
    }
   ],
   "source": [
    "PROMPT = \"\"\"You act like a MOF synthesis expert. I will give you precursors of MOF and you have to suggest the appropriate synthesis conditions for this MOF. You have to suggest the synthesis conditions in JSON format and contain these categories : ['precursor', 'synthesis_method', 'solvent', 'temperature', 'time', 'pressure', 'cooling', 'pH_adjustment', 'washing', 'filtration', 'drying'].\"\"\"\n",
    "pprint.pprint(PROMPT)"
   ]
  },
  {
   "cell_type": "code",
   "execution_count": 28,
   "metadata": {},
   "outputs": [
    {
     "name": "stderr",
     "output_type": "stream",
     "text": [
      "100%|██████████| 9197/9197 [00:00<00:00, 38769.64it/s]\n"
     ]
    }
   ],
   "source": [
    "jsonl = []\n",
    "year = []\n",
    "# solvent_count = Counter()\n",
    "for i, data in tqdm(enumerate(sorted_output), total=len(sorted_output)):\n",
    "    process = data['processes']\n",
    "    try:\n",
    "        process = parse_dataset(process)\n",
    "        # solvent_count.update(process.solvent)\n",
    "    except Exception:\n",
    "        continue\n",
    "\n",
    "    json_file = {\n",
    "        \"messages\": [\n",
    "            {\"role\": \"system\", \"content\": PROMPT},\n",
    "            {\"role\": \"user\", \"content\": json.dumps(data['precursor'])},\n",
    "            {\"role\": \"assistant\", \"content\": json.dumps(process.to_dict())},\n",
    "        ]\n",
    "    }\n",
    "    jsonl.append(json_file)\n",
    "    year.append(data['year'])"
   ]
  },
  {
   "cell_type": "code",
   "execution_count": 56,
   "metadata": {},
   "outputs": [],
   "source": [
    "for i in range(5):\n",
    "    train, test = train_test_split(jsonl, random_state=i)\n",
    "\n",
    "    with open(f'train_{i}.jsonl', 'w') as f:\n",
    "        for db in train:\n",
    "            if \"\\\", \\\"\" in db['messages'][1]['content']:\n",
    "                f.write(json.dumps(db) + \"\\n\")\n",
    "\n",
    "    with open(f'test_{i}.jsonl', 'w') as f:\n",
    "        for db in test:\n",
    "            if \"\\\", \\\"\" in db['messages'][1]['content']:\n",
    "                f.write(json.dumps(db) + \"\\n\")"
   ]
  },
  {
   "cell_type": "markdown",
   "metadata": {},
   "source": [
    "# Year dataset"
   ]
  },
  {
   "cell_type": "code",
   "execution_count": 31,
   "metadata": {},
   "outputs": [
    {
     "data": {
      "text/plain": [
       "(6783, 2261)"
      ]
     },
     "execution_count": 31,
     "metadata": {},
     "output_type": "execute_result"
    }
   ],
   "source": [
    "len(train), len(test)"
   ]
  },
  {
   "cell_type": "code",
   "execution_count": 32,
   "metadata": {},
   "outputs": [],
   "source": [
    "n_count = [0, 0]\n",
    "year_list = [1998, 2001, 2004, 2007, 2010, 2013, 2016]\n",
    "for d, y in zip(jsonl, year):\n",
    "    if not y:\n",
    "        continue\n",
    "\n",
    "    for y2 in year_list:\n",
    "        if y <= y2:\n",
    "            with open(f'year_test/year_{y2}.jsonl', 'a') as f:\n",
    "                f.write(json.dumps(d) + \"\\n\")\n",
    "    # if y > 2016:\n",
    "    with open(f'year_test/year_test_{y}.jsonl', 'a') as f:\n",
    "        f.write(json.dumps(d) + \"\\n\")\n",
    "    "
   ]
  }
 ],
 "metadata": {
  "kernelspec": {
   "display_name": "llmminer",
   "language": "python",
   "name": "python3"
  },
  "language_info": {
   "codemirror_mode": {
    "name": "ipython",
    "version": 3
   },
   "file_extension": ".py",
   "mimetype": "text/x-python",
   "name": "python",
   "nbconvert_exporter": "python",
   "pygments_lexer": "ipython3",
   "version": "3.9.17"
  }
 },
 "nbformat": 4,
 "nbformat_minor": 2
}
