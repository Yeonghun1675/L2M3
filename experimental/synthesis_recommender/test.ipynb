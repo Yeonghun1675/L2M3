{
 "cells": [
  {
   "cell_type": "code",
   "execution_count": 1,
   "metadata": {},
   "outputs": [],
   "source": [
    "import jsonlines\n",
    "from collections import defaultdict\n",
    "import openai\n",
    "import json\n",
    "import regex\n",
    "from typing import Dict, Any, Tuple\n",
    "from tqdm import tqdm \n",
    "\n",
    "import seaborn as sns\n",
    "from matplotlib import pyplot as plt\n",
    "import pickle\n",
    "import pprint"
   ]
  },
  {
   "cell_type": "code",
   "execution_count": 2,
   "metadata": {},
   "outputs": [],
   "source": [
    "train_data = defaultdict(list)\n",
    "test_data = defaultdict(list)\n",
    "\n",
    "for i in range(5):\n",
    "    with jsonlines.open(f'train_{i}.jsonl') as f:\n",
    "        for line in f.iter():\n",
    "            train_data[i].append(line)\n",
    "\n",
    "    with jsonlines.open(f'test_{i}.jsonl') as f:\n",
    "        for line in f.iter():\n",
    "            test_data[i].append(line)"
   ]
  },
  {
   "cell_type": "code",
   "execution_count": 3,
   "metadata": {},
   "outputs": [],
   "source": [
    "time_dict = {\n",
    "    'days': 24,\n",
    "    'day': 24,\n",
    "    'weeks': 24*7,\n",
    "    'week': 24*7,\n",
    "    'hours': 1,\n",
    "    'hour': 1,\n",
    "    'h': 1,\n",
    "    'minute': 1/60,\n",
    "    'min': 1/60,\n",
    "    's': 1/3600\n",
    "}"
   ]
  },
  {
   "cell_type": "code",
   "execution_count": 4,
   "metadata": {},
   "outputs": [],
   "source": [
    "class Metric(object):\n",
    "    def __init__(self):\n",
    "        self.n_true = 0\n",
    "        self.n_false = 0\n",
    "        self.tag_true = defaultdict(int)\n",
    "        self.tag_false = defaultdict(int)\n",
    "\n",
    "    def update(self, answer: bool, tag=None):\n",
    "        if answer:\n",
    "            self.n_true += 1\n",
    "            if tag:\n",
    "                self.tag_true[tag] += 1\n",
    "        else:\n",
    "            self.n_false += 1\n",
    "            if tag:\n",
    "                self.tag_false[tag] += 1\n",
    "\n",
    "    def update_list(self, true_list, pred_list, tag=None):\n",
    "        if not isinstance(true_list, list) or not isinstance(pred_list, list):\n",
    "            if true_list == pred_list:\n",
    "                self.n_true += 1\n",
    "                if tag:\n",
    "                    self.tag_true[tag] += 1\n",
    "            else:\n",
    "                self.n_false += 1\n",
    "                if tag:\n",
    "                    self.tag_false[tag] += 1\n",
    "            return \n",
    "\n",
    "        for ls in pred_list:\n",
    "            if ls in true_list:\n",
    "                self.n_true += 1\n",
    "                if tag:\n",
    "                    self.tag_true[tag] += 1\n",
    "            else:\n",
    "                self.n_false += 1\n",
    "                if tag:\n",
    "                    self.tag_false[tag] += 1\n",
    "\n",
    "    def update_temp(self, true, pred):\n",
    "        eps = [10, 20, 30, 40, 50, 60, 70, 80, 90, 100]\n",
    "        if not isinstance(true, str) or not isinstance(pred, str):\n",
    "            if true == pred:\n",
    "                self.n_true += 1\n",
    "                self.tag_true['temperature'] += 1\n",
    "                for e in eps:\n",
    "                    self.tag_true[f'temperature-{e}'] += 1\n",
    "\n",
    "            else:\n",
    "                self.n_false += 1\n",
    "                self.tag_false['temperature'] += 1\n",
    "                for e in eps:\n",
    "                    self.tag_false[f'temperature-{e}'] += 1\n",
    "            return\n",
    "\n",
    "        if '°C' not in true or '°C' not in pred:\n",
    "            if true == pred:\n",
    "                self.n_true += 1\n",
    "                self.tag_true['temperature'] += 1\n",
    "                for e in eps:\n",
    "                    self.tag_true[f'temperature-{e}'] += 1\n",
    "\n",
    "            else:\n",
    "                self.n_false += 1\n",
    "                self.tag_false['temperature'] += 1\n",
    "                for e in eps:\n",
    "                    self.tag_false[f'temperature-{e}'] += 1\n",
    "            return\n",
    "\n",
    "        true = float(true.replace('°C', '').strip())\n",
    "        pred = float(pred.replace('°C', '').strip())\n",
    "\n",
    "        if abs(true-pred) <= 10:\n",
    "            self.n_true += 1\n",
    "            self.tag_true['temperature'] += 1\n",
    "        else:\n",
    "            self.n_false += 1\n",
    "            self.tag_false['temperature'] += 1\n",
    "\n",
    "        for e in eps:\n",
    "            if abs(true-pred) <= e:\n",
    "                self.tag_true[f'temperature-{e}'] += 1\n",
    "            else:\n",
    "                self.tag_false[f'temperature-{e}'] += 1\n",
    "\n",
    "    def update_time(self, true, pred):\n",
    "        if not isinstance(true, str) or not isinstance(pred, str):\n",
    "            if true == pred:\n",
    "                self.n_true += 1\n",
    "                self.tag_true['time'] += 1\n",
    "            else:\n",
    "                self.n_false += 1\n",
    "                self.tag_false['time'] += 1\n",
    "            return\n",
    "        \n",
    "        unit_true = regex.search(r\"(?<=\\b|\\d)(days|day|weeks|week|hours|hour|h|minute|min|s)\\b\", str(true))\n",
    "        unit_pred = regex.search(r\"(?<=\\b|\\d)(days|day|weeks|week|hours|hour|h|minute|min|s)\\b\", str(pred))\n",
    "\n",
    "        if not unit_pred or not unit_true:\n",
    "            if true == pred:\n",
    "                self.n_true += 1\n",
    "                self.tag_true['time'] += 1\n",
    "            else:\n",
    "                self.n_false += 1\n",
    "                self.tag_false['time'] += 1\n",
    "            return\n",
    "\n",
    "        times_true = time_dict[unit_true.group()]\n",
    "        times_pred = time_dict[unit_pred.group()]\n",
    "\n",
    "        true = float(true.split()[0]) * times_true + 1e-6\n",
    "        pred = float(pred.split()[0]) * times_pred + 1e-6\n",
    "\n",
    "        if true/pred < 2 and true/pred > 0.5:\n",
    "            self.n_true += 1\n",
    "            self.tag_true['time'] += 1\n",
    "        else:\n",
    "            self.n_false += 1\n",
    "            self.tag_false['time'] += 1\n",
    "        \n",
    "    def update_pressure(self, true: str, pred: str):\n",
    "        if not isinstance(true, str) or not isinstance(pred, str):\n",
    "            if true == pred:\n",
    "                self.n_true += 1\n",
    "                self.tag_true['pressure'] += 1\n",
    "            else:\n",
    "                self.n_false += 1\n",
    "                self.tag_false['pressure'] += 1\n",
    "            return\n",
    "        \n",
    "        if 'atm' not in true or 'atm' not in pred:\n",
    "            if true == pred:\n",
    "                self.n_true += 1\n",
    "                self.tag_true['pressure'] += 1\n",
    "            else:\n",
    "                self.n_false += 1\n",
    "                self.tag_false['pressure'] += 1\n",
    "            return\n",
    "\n",
    "        true = float(true.replace('atm', '').strip())\n",
    "        pred = float(pred.replace('atm', '').strip())\n",
    "\n",
    "        if abs(true-pred) <= 1:\n",
    "            self.n_true += 1\n",
    "            self.tag_true['pressure'] += 1\n",
    "        else:\n",
    "            self.n_false += 1\n",
    "            self.tag_false['pressure'] += 1\n",
    "\n",
    "    def accuracy(self, ):\n",
    "        return self.n_true / (self.n_true + self.n_false)\n",
    "    \n",
    "    def accuracy_task(self, ):\n",
    "        output = dict()\n",
    "        for key in self.tag_true:\n",
    "            n_true = self.tag_true[key]\n",
    "            n_false = self.tag_false[key]\n",
    "            acc = n_true / (n_true + n_false)\n",
    "            output[key] = acc\n",
    "        return output\n",
    "\n",
    "\n",
    "def evaluate(true, prediction, metric: Metric):\n",
    "    if not isinstance(prediction, dict):\n",
    "        metric.update(False)\n",
    "        return\n",
    "    # precursor\n",
    "    try:\n",
    "        metric.update_list(true.get('precursors', None), prediction.get('precursors', None), tag='precursor')\n",
    "    except Exception as e:\n",
    "        metric.update(False, tag='precursor')\n",
    "\n",
    "    # solvent\n",
    "    try:\n",
    "        metric.update_list(true['solvent'], prediction['solvent'], tag='solvent')\n",
    "    except:\n",
    "        metric.update(False, tag='solvent')\n",
    "    \n",
    "    # conditions\n",
    "    metric.update_temp(true.get('temperature', None), prediction.get('temperature', None))\n",
    "    metric.update_time(true.get('time'), prediction.get('time'))\n",
    "\n",
    "    pressure = prediction.get('pressure')\n",
    "    if pressure == 'autogenous pressure':\n",
    "        pressure = 'autogenous'\n",
    "    metric.update_pressure(true.get('pressure'), pressure)\n",
    "\n",
    "    # method\n",
    "    synthesis_method = prediction.get('synthesis_method')\n",
    "    if synthesis_method == 'solvothermal':\n",
    "        synthesis_method = 'solvothermal synthesis'\n",
    "    metric.update(true.get('synthesis_method') == synthesis_method, tag='method')\n",
    "    metric.update(true.get('cooling') == prediction.get('cooling'), tag='method')\n",
    "    metric.update_list(true.get('washing'), prediction.get('washing'), tag='method')\n",
    "    metric.update(true.get('filtration') == prediction.get('filtration'), tag='method')\n",
    "    metric.update(true.get('drying') == prediction.get('drying'), tag='method')\n"
   ]
  },
  {
   "cell_type": "code",
   "execution_count": 5,
   "metadata": {},
   "outputs": [],
   "source": [
    "with open('true_label_save.pickle', 'rb') as f:\n",
    "    true_label = pickle.load(f)\n",
    "\n",
    "with open('prediction_label_save.pickle', 'rb') as f:\n",
    "    prediction_label = pickle.load(f)"
   ]
  },
  {
   "cell_type": "code",
   "execution_count": 6,
   "metadata": {},
   "outputs": [
    {
     "name": "stdout",
     "output_type": "stream",
     "text": [
      "gpt3.5-0\n",
      "gpt4-0\n"
     ]
    }
   ],
   "source": [
    "result_dict = defaultdict(list)\n",
    "\n",
    "for key in true_label.keys():\n",
    "    true, prediction = true_label[key], prediction_label[key]\n",
    "\n",
    "    print (key)\n",
    "    for t, p in zip(true, prediction):\n",
    "        if t is None or p is None:\n",
    "            continue\n",
    "        metric = Metric()\n",
    "        evaluate(t, p, metric)\n",
    "        result_dict[key].append(metric.accuracy())\n"
   ]
  },
  {
   "cell_type": "code",
   "execution_count": 7,
   "metadata": {},
   "outputs": [
    {
     "data": {
      "text/plain": [
       "(0.8333333333333334, 0.8333333333333334)"
      ]
     },
     "execution_count": 7,
     "metadata": {},
     "output_type": "execute_result"
    }
   ],
   "source": [
    "result_dict.keys()\n",
    "import numpy as np\n",
    "np.median(result_dict['gpt3.5-0']), np.median(result_dict['gpt4-0'])"
   ]
  },
  {
   "cell_type": "code",
   "execution_count": 8,
   "metadata": {},
   "outputs": [],
   "source": [
    "with open('true_label_fewshot_gpt3_save.pickle', 'rb') as f:\n",
    "    true_gpt3 = pickle.load(f)\n",
    "\n",
    "with open('prediction_label_fewshot_gpt3_save.pickle', 'rb') as f:\n",
    "    prediction_gpt3 = pickle.load(f)\n",
    "    \n",
    "for t, p in zip(true_gpt3, prediction_gpt3):\n",
    "    metric = Metric()\n",
    "    evaluate(t, p, metric)\n",
    "    result_dict['gpt-3.5-fewshot'].append(metric.accuracy())"
   ]
  },
  {
   "cell_type": "code",
   "execution_count": 9,
   "metadata": {},
   "outputs": [],
   "source": [
    "with open('true_label_fewshot100_gpt3_save.pickle', 'rb') as f:\n",
    "    true_gpt3 = pickle.load(f)\n",
    "\n",
    "with open('prediction_label_fewshot100_gpt3_save.pickle', 'rb') as f:\n",
    "    prediction_gpt3 = pickle.load(f)\n",
    "    \n",
    "for t, p in zip(true_gpt3, prediction_gpt3):\n",
    "    metric = Metric()\n",
    "    evaluate(t, p, metric)\n",
    "    result_dict['gpt-3.5-fewshot-100'].append(metric.accuracy())"
   ]
  },
  {
   "cell_type": "code",
   "execution_count": 10,
   "metadata": {},
   "outputs": [],
   "source": [
    "with open('true_label_zeroshot_gpt3_save.pickle', 'rb') as f:\n",
    "    true_gpt3 = pickle.load(f)\n",
    "\n",
    "with open('prediction_label_zeroshot_gpt3_save.pickle', 'rb') as f:\n",
    "    prediction_gpt3 = pickle.load(f)\n",
    "    \n",
    "for t, p in zip(true_gpt3, prediction_gpt3):\n",
    "    metric = Metric()\n",
    "    evaluate(t, p, metric)\n",
    "    result_dict['gpt-3.5-zeroshot'].append(metric.accuracy())"
   ]
  },
  {
   "cell_type": "code",
   "execution_count": 12,
   "metadata": {},
   "outputs": [],
   "source": [
    "with open('true_label_fewshot_gpt4o_save.pickle', 'rb') as f:\n",
    "    true_gpt4o = pickle.load(f)\n",
    "\n",
    "with open('prediction_label_fewshot_gpt4o_save.pickle', 'rb') as f:\n",
    "    prediction_gpt4o = pickle.load(f)\n",
    "    \n",
    "for t, p in zip(true_gpt4o, prediction_gpt4o):\n",
    "    metric = Metric()\n",
    "    evaluate(t, p, metric)\n",
    "    result_dict['gpt-4o-fewshot'].append(metric.accuracy())"
   ]
  },
  {
   "cell_type": "code",
   "execution_count": 13,
   "metadata": {},
   "outputs": [],
   "source": [
    "with open('true_label_zeroshot_gpt4o_save.pickle', 'rb') as f:\n",
    "    true_gpt4o = pickle.load(f)\n",
    "\n",
    "with open('prediction_label_zeroshot_gpt4o_save.pickle', 'rb') as f:\n",
    "    prediction_gpt4o = pickle.load(f)\n",
    "    \n",
    "for t, p in zip(true_gpt4o, prediction_gpt4o):\n",
    "    metric = Metric()\n",
    "    evaluate(t, p, metric)\n",
    "    result_dict['gpt-4o-zeroshot'].append(metric.accuracy())"
   ]
  },
  {
   "cell_type": "code",
   "execution_count": 14,
   "metadata": {},
   "outputs": [],
   "source": [
    "with open('true_label_fewshot100_gpt4o_save.pickle', 'rb') as f:\n",
    "    true_gpt3 = pickle.load(f)\n",
    "\n",
    "with open('prediction_label_fewshot100_gpt4o_save.pickle', 'rb') as f:\n",
    "    prediction_gpt3 = pickle.load(f)\n",
    "    \n",
    "for t, p in zip(true_gpt3, prediction_gpt3):\n",
    "    metric = Metric()\n",
    "    evaluate(t, p, metric)\n",
    "    result_dict['gpt-4o-fewshot-100'].append(metric.accuracy())"
   ]
  },
  {
   "cell_type": "code",
   "execution_count": 15,
   "metadata": {},
   "outputs": [],
   "source": [
    "with open('true_label_random_save.pickle', 'rb') as f:\n",
    "    true_random = pickle.load(f)\n",
    "\n",
    "with open('prediction_label_random_save.pickle', 'rb') as f:\n",
    "    prediction_random = pickle.load(f)"
   ]
  },
  {
   "cell_type": "code",
   "execution_count": 16,
   "metadata": {},
   "outputs": [],
   "source": [
    "for t, p in zip(true_random, prediction_random):\n",
    "    metric = Metric()\n",
    "    evaluate(t, p, metric)\n",
    "    result_dict['random'].append(metric.accuracy())"
   ]
  },
  {
   "cell_type": "code",
   "execution_count": 17,
   "metadata": {},
   "outputs": [],
   "source": [
    "with open('true_label_random_feq_save.pickle', 'rb') as f:\n",
    "    true_feq_random = pickle.load(f)\n",
    "\n",
    "with open('prediction_label_random_feq_save.pickle', 'rb') as f:\n",
    "    prediction_feq_random = pickle.load(f)"
   ]
  },
  {
   "cell_type": "code",
   "execution_count": 18,
   "metadata": {},
   "outputs": [],
   "source": [
    "for t, p in zip(true_feq_random, prediction_feq_random):\n",
    "    metric = Metric()\n",
    "    evaluate(t, p, metric)\n",
    "    result_dict['random_feq'].append(metric.accuracy())"
   ]
  },
  {
   "cell_type": "code",
   "execution_count": 19,
   "metadata": {},
   "outputs": [],
   "source": [
    "name_dict = {\n",
    "    'gpt4-0': 'GPT-4o', \n",
    "    'gpt3.5-0': 'GPT-3.5', \n",
    "    'gpt-4o-zeroshot': 'GPT-4o',\n",
    "    'gpt-3.5-zeroshot': 'GPT-3.5',\n",
    "    'gpt-4o-fewshot': 'GPT-4o', \n",
    "    'gpt-3.5-fewshot': 'GPT-3.5', \n",
    "    'gpt-4o-fewshot-100': 'GPT-4o',\n",
    "    'gpt-3.5-fewshot-100': 'GPT-3.5',\n",
    "    'random': 'Random',\n",
    "    'random_feq': 'Statistic'\n",
    "}\n",
    "\n",
    "color=['#CF796A', '#CF796A', '#658CC8', '#658CC8', '#6AB55F', '#6AB55F', '#C7A663', '#C7A663', '#999999', '#999999']"
   ]
  },
  {
   "cell_type": "code",
   "execution_count": 20,
   "metadata": {},
   "outputs": [
    {
     "name": "stderr",
     "output_type": "stream",
     "text": [
      "The PostScript backend does not support transparency; partially transparent artists will be rendered opaque.\n"
     ]
    },
    {
     "data": {
      "image/png": "[encoded data removed]",
      "text/plain": [
       "<Figure size 708.662x236.221 with 1 Axes>"
      ]
     },
     "metadata": {},
     "output_type": "display_data"
    }
   ],
   "source": [
    "mm = 0.0393701\n",
    "color=['#CF796A', '#CF796A', '#658CC8', '#658CC8', '#658CC8', '#658CC8', '#658CC8', '#658CC8', '#999999', '#999999']\n",
    "\n",
    "plt.rcParams['font.family'] = 'arial'\n",
    "plt.rcParams['font.size'] = 7\n",
    "\n",
    "#fig, ax = plt.subplots(1, 1, figsize=(115* mm, 60* mm))\n",
    "fig, ax = plt.subplots(1, 1, figsize=(180* mm, 60* mm))\n",
    "\n",
    "for i, key in enumerate(name_dict.keys()):\n",
    "    value = result_dict[key]\n",
    "    sns.boxplot(x=i, y=value, color=color[i], width=0.5, linecolor='#252525', linewidth=0.75, fliersize=1.5)\n",
    "\n",
    "plt.xticks(range(len(name_dict)), name_dict.values())\n",
    "plt.xlabel('LLM Model', fontsize=7)\n",
    "plt.ylabel('Recommendation Score', fontsize=9)\n",
    "\n",
    "plt.legend(['Fine-tuning', 'Prompt engineering', 'Rule-based'], loc='lower right')\n",
    "\n",
    "plt.tight_layout()\n",
    "\n",
    "plt.savefig('llm.eps', bbox_inches='tight')\n",
    "plt.show()"
   ]
  },
  {
   "cell_type": "code",
   "execution_count": null,
   "metadata": {},
   "outputs": [],
   "source": []
  },
  {
   "cell_type": "code",
   "execution_count": null,
   "metadata": {},
   "outputs": [
    {
     "name": "stderr",
     "output_type": "stream",
     "text": [
      "The PostScript backend does not support transparency; partially transparent artists will be rendered opaque.\n"
     ]
    },
    {
     "data": {
      "image/png": "[encoded data removed]",
      "text/plain": [
       "<Figure size 708.662x236.221 with 1 Axes>"
      ]
     },
     "metadata": {},
     "output_type": "display_data"
    }
   ],
   "source": [
    "mm = 0.0393701\n",
    "color=['#CF796A',  '#658CC8', '#CF796A',  '#658CC8', '#CF796A',  '#658CC8', '#CF796A',  '#658CC8',  '#999999', '#999999']\n",
    "\n",
    "plt.rcParams['font.family'] = 'arial'\n",
    "plt.rcParams['font.size'] = 7\n",
    "\n",
    "# fig, ax = plt.subplots(1, 1, figsize=(115* mm, 60* mm))\n",
    "fig, ax = plt.subplots(1, 1, figsize=(180* mm, 60* mm))\n",
    "\n",
    "for i, key in enumerate(name_dict.keys()):\n",
    "    value = result_dict[key]\n",
    "    sns.boxplot(x=i, y=value, color=color[i], width=0.5, linecolor='#252525', linewidth=0.75, fliersize=1.5)\n",
    "\n",
    "plt.xticks(range(len(name_dict)), name_dict.values())\n",
    "plt.xlabel('LLM Model', fontsize=7)\n",
    "plt.ylabel('Recommendation Score', fontsize=9)\n",
    "plt.legend(['GPT-4o',t 'GPT-3.5'], loc='upper right')\n",
    "plt.tight_layout()\n",
    "\n",
    "plt.savefig('llm2.eps', bbox_inches='tight')\n",
    "plt.show()"
   ]
  },
  {
   "cell_type": "code",
   "execution_count": 26,
   "metadata": {},
   "outputs": [],
   "source": [
    "metric_output = dict()\n",
    "for key in true_label.keys():\n",
    "    true, prediction = true_label[key], prediction_label[key]\n",
    "\n",
    "    metric_task = Metric()\n",
    "    for t, p in zip(true, prediction):\n",
    "        if t is None or p is None:\n",
    "            continue\n",
    "        #metric = Metric()\n",
    "        evaluate(t, p, metric_task)\n",
    "\n",
    "    metric_output[key] = metric_task\n",
    "        \n"
   ]
  },
  {
   "cell_type": "code",
   "execution_count": 27,
   "metadata": {},
   "outputs": [
    {
     "data": {
      "text/plain": [
       "{'precursor': 0.9911081837642022,\n",
       " 'solvent': 0.6830559757942511,\n",
       " 'temperature': 0.4933142311365807,\n",
       " 'temperature-10': 0.4933142311365807,\n",
       " 'temperature-20': 0.6150907354345749,\n",
       " 'temperature-30': 0.6528175740210124,\n",
       " 'temperature-40': 0.7263610315186246,\n",
       " 'temperature-50': 0.7483285577841452,\n",
       " 'temperature-60': 0.779847182425979,\n",
       " 'temperature-70': 0.8046800382043935,\n",
       " 'temperature-80': 0.8271251193887297,\n",
       " 'temperature-90': 0.839541547277937,\n",
       " 'temperature-100': 0.887774594078319,\n",
       " 'time': 0.5950334288443171,\n",
       " 'method': 0.7885546170636804,\n",
       " 'pressure': 0.774116523400191}"
      ]
     },
     "execution_count": 27,
     "metadata": {},
     "output_type": "execute_result"
    }
   ],
   "source": [
    "metric_output['gpt4-0'].accuracy_task()"
   ]
  },
  {
   "cell_type": "code",
   "execution_count": 28,
   "metadata": {},
   "outputs": [
    {
     "data": {
      "text/plain": [
       "9"
      ]
     },
     "execution_count": 28,
     "metadata": {},
     "output_type": "execute_result"
    }
   ],
   "source": [
    "i"
   ]
  },
  {
   "cell_type": "code",
   "execution_count": 29,
   "metadata": {},
   "outputs": [],
   "source": [
    "name_dict = {\n",
    "    'method': 'Synthesis\\nmethod',\n",
    "    'solvent': 'Solvent',\n",
    "    'temperature': 'Temp',\n",
    "    'time': 'Time',\n",
    "    'pressure': 'Pressure',\n",
    "    #'cooling': 'cooling',\n",
    "    #'washing': 'washing',\n",
    "    #'filtration': 'filtration',\n",
    "    #'drying': 'drying',\n",
    "\n",
    "\n",
    "\n",
    "}"
   ]
  },
  {
   "cell_type": "code",
   "execution_count": null,
   "metadata": {},
   "outputs": [
    {
     "data": {
      "image/png": "[encoded data removed]",
      "text/plain": [
       "<Figure size 354.331x236.221 with 1 Axes>"
      ]
     },
     "metadata": {},
     "output_type": "display_data"
    }
   ],
   "source": [
    "model = 'gpt4-0'\n",
    "mm = 0.0393701\n",
    "#color=['#CF796A',  '#658CC8', '#CF796A',  '#658CC8', '#CF796A',  '#658CC8', '#CF796A',  '#658CC8',  '#999999', '#999999']\n",
    "# color = ['#999999'] * len(name_dict)\n",
    "color = ['#CF796A', '#E8D8B7', '#6AB55F', '#658CC8', '#888888']\n",
    "\n",
    "plt.rcParams['font.family'] = 'arial'\n",
    "plt.rcParams['font.size'] = 7\n",
    "\n",
    "fig, ax = plt.subplots(1, 1, figsize=(90* mm, 60* mm))\n",
    "\n",
    "value_dict = metric_output[model].accuracy_task()\n",
    "\n",
    "for i, key in enumerate(name_dict.keys()):\n",
    "    value = value_dict[key]\n",
    "    #value = result_dict[key]\n",
    "    #sns.boxplot(x=i, y=value, color=color[i], width=0.5, linecolor='#252525', linewidth=0.75, fliersize=1.5)\n",
    "    plt.bar(x=i, height=value, color=color[i])\n",
    "\n",
    "plt.xticks(range(len(name_dict)), name_dict.values(), fontsize=8)\n",
    "#plt.xlabel('LLM Model', fontsize=7)\n",
    "plt.ylabel('Recommendation Score', fontsize=9)\n",
    "# plt.legend(['GPT-4o', 'GPT-3.5'], loc='upper right')\n",
    "plt.tight_layout()\n",
    "\n",
    "plt.savefig('feature_importance.eps', bbox_inches='tight')\n",
    "plt.show()"
   ]
  }
 ],
 "metadata": {
  "kernelspec": {
   "display_name": "llmminer",
   "language": "python",
   "name": "python3"
  },
  "language_info": {
   "codemirror_mode": {
    "name": "ipython",
    "version": 3
   },
   "file_extension": ".py",
   "mimetype": "text/x-python",
   "name": "python",
   "nbconvert_exporter": "python",
   "pygments_lexer": "ipython3",
   "version": "3.9.17"
  }
 },
 "nbformat": 4,
 "nbformat_minor": 2
}
