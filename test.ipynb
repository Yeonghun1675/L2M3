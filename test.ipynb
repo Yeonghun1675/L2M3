{
 "cells": [
  {
   "cell_type": "code",
   "execution_count": 1,
   "metadata": {},
   "outputs": [],
   "source": [
    "%load_ext autoreload\n",
    "%autoreload 2"
   ]
  },
  {
   "cell_type": "code",
   "execution_count": 29,
   "metadata": {},
   "outputs": [],
   "source": [
    "from langchain.chat_models import ChatOpenAI\n",
    "from llm_miner.config import config\n",
    "from llm_miner.agent import LLMMiner\n",
    "from llm_miner.categorize.base import CategorizeAgent\n",
    "from llm_miner.synthesis.base import SynthesisMiningAgent"
   ]
  },
  {
   "cell_type": "code",
   "execution_count": 3,
   "metadata": {},
   "outputs": [],
   "source": [
    "text = '''<p>\n",
    "<bold>Synthesis.</bold> The preparation of the non−porous first generation\n",
    "frameworks <bold>I</bold> Ni<sub>3</sub>btc<sub>2</sub>(py)<sub>6</sub>(1,2-pd)<sub>3</sub>·[(1,2-pd)<sub>11</sub>(H<sub>2</sub>O)<sub>8</sub>] is described in\n",
    "ref . All chemicals used in the synthesis of the second generation\n",
    "porous frameworks <bold>II</bold> were as purchased from the Aldrich Chemical\n",
    "Co. unless stated in parentheses within the text. Nickel (II) nitrate\n",
    "hexahydrate (218 mg, 0.75 mmol) and 1,3,5-benzenetricarboxylic acid\n",
    "(105 mg, 0.5 mmol) (btc) are gently warmed in 10 mL of resolved\n",
    "1,2-propanediol (1,2-pd) [Avocado] until complete dissolution occurs.\n",
    "This stock solution is split into five equal portions and placed into 75\n",
    "× 25-mm glass sample vials. Into each is placed a smaller sample vial,\n",
    "with a pierced lid, containing 5 drops of neat 3-picoline (3-pic) [or\n",
    "pyridine (py), <bold>I</bold>]. The larger vial is capped and sealed with laboratory\n",
    "film. The homochiral crystalline phases grow after approximately three\n",
    "weeks. Total yield = 450 mg (39% based on btc). Elemental analysis\n",
    "for <bold>II</bold>:  Ni<sub>3</sub>(btc)<sub>2</sub>(3-pic)<sub>6</sub>(1,2-pd)<sub>3</sub>·[(1,2-pd)<sub>9</sub>(H<sub>2</sub>O)<sub>11</sub>] [Ni<sub>3</sub>C<sub>90</sub>H<sub>166</sub>N<sub>6</sub>O<sub>47</sub>]:  Calculated C 47.82, H 7.40, N 3.72%; Found C 48.90, H 7.48, N\n",
    "3.53% [based on a formula weight of 2260.37]. This formula is in\n",
    "excellent agreement with the desolvation data, and the estimated number\n",
    "of guests from the void electron population determined from the X-ray\n",
    "diffraction data by the method of Spek.\n",
    "</p>\n",
    "'''"
   ]
  },
  {
   "cell_type": "code",
   "execution_count": 40,
   "metadata": {},
   "outputs": [],
   "source": [
    "model_name = config[\"model_name\"]\n",
    "simple_model_name = config[\"simple_model_name\"]\n",
    "temp = config['temperature']\n",
    "verbose = config[\"verbose\"]\n",
    "\n",
    "llm = ChatOpenAI(model_name=model_name, temperature=temp)\n"
   ]
  },
  {
   "cell_type": "code",
   "execution_count": 42,
   "metadata": {},
   "outputs": [
    {
     "name": "stdout",
     "output_type": "stream",
     "text": [
      "\n",
      "\n",
      "\u001b[1m> Entering new LLMMiner chain...\u001b[0m\n",
      "\n",
      "\n",
      "\u001b[1m> Entering new CategorizeAgent chain...\u001b[0m\n",
      "\n",
      "[Categorize] \u001b[33;1m\u001b[1;3m['synthesis condition']\u001b[0m\n",
      "\u001b[1m> Finished chain.\u001b[0m\n",
      "\n",
      "\n",
      "\u001b[1m> Entering new SynthesisMiningAgent chain...\u001b[0m\n",
      "\n",
      "[Synthesis Mining] \u001b[33;1m\u001b[1;3m['type8']\u001b[0m\n",
      "[Synthesis Mining] \u001b[33;1m\u001b[1;3m[{\"Mof name\": \"Ni3btc2(py)6(1,2-pd)3\\u00b7[(1,2-pd)11(H2O)8]\", \"symbol\": \"I\", \"processes\": [{\"synthesis method\": \"Not mentioned\", \"precursor\": \"Not mentioned\", \"solution\": \"Not mentioned\", \"pressure\": \"Not mentioned\", \"temperature\": \"Not mentioned\", \"time\": \"Not mentioned\"}], \"yield\": \"Not mentioned\", \"chemical formula\": \"Not mentioned\"}, {\"Mof name\": \"Ni3(btc)2(3-pic)6(1,2-pd)3\\u00b7[(1,2-pd)9(H2O)11]\", \"symbol\": \"II\", \"processes\": [{\"synthesis method\": \"chemical synthesis\", \"precursor\": [[\"Nickel (II) nitrate hexahydrate\", \"218 mg\", \"0.75 mmol\"], [\"1,3,5-benzenetricarboxylic acid\", \"105 mg\", \"0.5 mmol\"]], \"solution\": \"1,2-propanediol\", \"pressure\": \"Not mentioned\", \"temperature\": \"gently warmed\", \"time\": \"approximately three weeks\"}], \"yield\": \"39%\", \"chemical formula\": \"Ni3C90H166N6O47\"}]\u001b[0m\n",
      "\u001b[1m> Finished chain.\u001b[0m\n",
      "\n",
      "\u001b[1m> Finished chain.\u001b[0m\n"
     ]
    }
   ],
   "source": [
    "agent = LLMMiner.from_llm(llm, verbose=verbose)\n",
    "output = agent.run(text)"
   ]
  },
  {
   "cell_type": "code",
   "execution_count": 44,
   "metadata": {},
   "outputs": [
    {
     "data": {
      "text/plain": [
       "['synthesis condition']"
      ]
     },
     "execution_count": 44,
     "metadata": {},
     "output_type": "execute_result"
    }
   ],
   "source": [
    "output"
   ]
  },
  {
   "cell_type": "code",
   "execution_count": 32,
   "metadata": {},
   "outputs": [
    {
     "name": "stdout",
     "output_type": "stream",
     "text": [
      "\n",
      "\n",
      "\u001b[1m> Entering new CategorizeAgent chain...\u001b[0m\n",
      "\n",
      "[Categorize] \u001b[33;1m\u001b[1;3m['synthesis condition']\u001b[0m\n",
      "\u001b[1m> Finished chain.\u001b[0m\n"
     ]
    },
    {
     "data": {
      "text/plain": [
       "['synthesis condition']"
      ]
     },
     "execution_count": 32,
     "metadata": {},
     "output_type": "execute_result"
    }
   ],
   "source": [
    "CategorizeAgent.from_llm(llm, verbose=verbose).run(text)"
   ]
  },
  {
   "cell_type": "code",
   "execution_count": 22,
   "metadata": {},
   "outputs": [
    {
     "name": "stdout",
     "output_type": "stream",
     "text": [
      "\n",
      "\n",
      "\u001b[1m> Entering new SynthesisMiningAgent chain...\u001b[0m\n",
      "[\"type8\"]\n",
      "\n",
      "\u001b[1m> Finished chain.\u001b[0m\n"
     ]
    },
    {
     "data": {
      "text/plain": [
       "['type8']"
      ]
     },
     "execution_count": 22,
     "metadata": {},
     "output_type": "execute_result"
    }
   ],
   "source": [
    "SynthesisMiningAgent.from_llm(llm, verbose=verbose).run(text)"
   ]
  }
 ],
 "metadata": {
  "kernelspec": {
   "display_name": "llmminer",
   "language": "python",
   "name": "python3"
  },
  "language_info": {
   "codemirror_mode": {
    "name": "ipython",
    "version": 3
   },
   "file_extension": ".py",
   "mimetype": "text/x-python",
   "name": "python",
   "nbconvert_exporter": "python",
   "pygments_lexer": "ipython3",
   "version": "3.9.17"
  },
  "orig_nbformat": 4
 },
 "nbformat": 4,
 "nbformat_minor": 2
}
